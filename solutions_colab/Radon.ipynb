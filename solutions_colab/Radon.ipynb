{
 "cells": [
  {
   "cell_type": "markdown",
   "metadata": {},
   "source": [
    "# Image reconstruction from parallel projections\n",
    "\n",
    "**Authors: M. Ravasi, D. Vargas, I. Vasconcelos**"
   ]
  },
  {
   "cell_type": "markdown",
   "metadata": {},
   "source": [
    "Welcome to the last notebook of our **Solving large-scale inverse problems in Python with PyLops** tutorial!\n",
    "\n",
    "The aim of this tutorial is to:\n",
    "\n",
    "- experiment with the PyLops framework to setup non-trivial linear operators\n",
    "- understand when and how to leverage third-party code in the creation of a PyLops operator\n",
    "- bring everything together in a (hopefully) familiar context - that of reconstruction of an image from a limited set of projections (aka solving the *Inverse Radon transform*)"
   ]
  },
  {
   "cell_type": "markdown",
   "metadata": {},
   "source": [
    "## Setting the scene\n",
    "\n",
    "The problem of reconstructing an image from a limited set of projections is well-known problem in a variety of disciplines. Here we will specifically focus on *CT image reconstruction with parallel beam projections*.\n",
    "\n",
    "Let's start from the **Fourier Slice Theorem** (Source: wikipedia https://en.wikipedia.org/wiki/Projection-slice_theorem):\n",
    "\n",
    "In words, given a two-dimensional function (e.g., an image), line projections and the image's Fourier spectrum are instrinsically related:\n",
    "\n",
    "- project a target image $\\mathbf{i}$ onto lines with given slopes $\\mathbf{p}$: this models the projection data that is input to the image reconstruction problem\n",
    "- apply a 1D Fourier transform of the image projection for each $\\mathbf{p}$\n",
    "- place said 1D Fourier-domain image projections along fixed sets of $\\mathbf{k}$ values onto the 2D Fourier plane, according to the orientation of the projection $\\mathbf{p}$\n",
    "- *or* apply a two-dimensional Fourier transform of the image (i.e., compute its wavenumber spectrum), and then extract a slice through its origin along the projection line.\n",
    "\n",
    "Based on the fact that physically we can only acquire projections $\\mathbf{p}$ - e.g., with a CT scanner - we can think about a couple of options of inverse problems for image reconstruction:\n",
    "\n",
    "1. Simply invert the projection operator $\\mathbf{P}$: $\\mathbf{p} = \\mathbf{P} \\mathbf{i}$\n",
    "1. Fourier transform the projections and place them at their right location in the wavenumber spectrum and then invert the restricted ($\\mathbf{R}$) two-dimensional Fourier transform ($\\mathbf{K}$): $\\mathbf{k} = \\mathbf{R} \\mathbf{K} \\mathbf{i}$\n",
    "\n",
    "To start, taking a quickly look at what *scikit-image* has to offer (https://scikit-image.org/docs/dev/auto_examples/transform/plot_radon_transform.html). We see that they provide a forward Radon and the classical Filtered Back Projection (FBP). \n",
    "\n",
    "- Can we use anything to create either of our forward modelling operators and then feed them to any of PyLops solvers?\n",
    "- What about the adjoint?"
   ]
  },
  {
   "cell_type": "markdown",
   "metadata": {},
   "source": [
    "Let's first import the libraries we need in this tutorial"
   ]
  },
  {
   "cell_type": "code",
   "execution_count": null,
   "metadata": {},
   "outputs": [],
   "source": [
    "# Run this when using Colab (will install the missing libraries)\n",
    "# !pip install pylops scooby"
   ]
  },
  {
   "cell_type": "code",
   "execution_count": null,
   "metadata": {},
   "outputs": [],
   "source": [
    "%matplotlib inline\n",
    "\n",
    "import warnings\n",
    "warnings.filterwarnings('ignore')\n",
    "\n",
    "import numpy as np\n",
    "import matplotlib.pyplot as plt\n",
    "import pylops\n",
    "import scooby\n",
    "\n",
    "from skimage.data import shepp_logan_phantom\n",
    "from skimage.transform import radon, iradon\n",
    "\n",
    "from pylops import FunctionOperator\n",
    "from pylops.utils import dottest"
   ]
  },
  {
   "cell_type": "markdown",
   "metadata": {},
   "source": [
    "We also import the famous Shepp Logan image - a well-known benchmark for this problem - which we will use in this tutorial.\n",
    "\n",
    "Notice that we pad the Shepp Logan phantom image with zeros. We will come back to this later on in the notebook - let's not care about it for the moment."
   ]
  },
  {
   "cell_type": "code",
   "execution_count": null,
   "metadata": {},
   "outputs": [],
   "source": [
    "# Import the benchmark Shepp-Logan\n",
    "image = shepp_logan_phantom()[::2, ::2]\n",
    "\n",
    "# Zero padding\n",
    "pad = 50\n",
    "image = np.pad(image, ((pad, pad), (pad, pad)), mode='constant')\n",
    "\n",
    "plt.figure(figsize=(6, 6))\n",
    "plt.imshow(image, cmap='gray')\n",
    "plt.title('Shepp Logan Phantom')\n",
    "plt.axis('tight');"
   ]
  },
  {
   "cell_type": "markdown",
   "metadata": {},
   "source": [
    "## scikit-image Radon"
   ]
  },
  {
   "cell_type": "markdown",
   "metadata": {},
   "source": [
    "It turns out scikit-image has off-the-shelf tools for this problem...\n",
    "\n",
    "Let's with scikit-image's ``radon`` function to see what we can do with it and also to set up a benchmark calculation."
   ]
  },
  {
   "cell_type": "code",
   "execution_count": null,
   "metadata": {},
   "outputs": [],
   "source": [
    "# Create a sampling of projection angles\n",
    "thetamin, thetamax, dtheta = 0, 180, 3  \n",
    "thetas = np.arange(thetamin, thetamax, dtheta)\n",
    "\n",
    "# Calculate image projections\n",
    "projection = radon(image, theta=thetas, circle=False, preserve_range=False)\n",
    "\n",
    "fig, (ax1, ax2) = plt.subplots(1, 2, figsize=(12, 6))\n",
    "ax1.imshow(image, cmap='gray')\n",
    "ax1.set_title(r\"Input $\\mathbf{i}$\")\n",
    "ax1.axis('tight')\n",
    "ax2.imshow(projection, cmap='gray', extent=(0, 180, 0, projection.shape[0]))\n",
    "ax2.set_title(r\"Radon transform $\\mathbf{p}$\")\n",
    "ax2.set_xlabel(\"Projection angle (deg)\")\n",
    "ax2.axis('tight');"
   ]
  },
  {
   "cell_type": "markdown",
   "metadata": {},
   "source": [
    "Ok, so going back to our projection concept, each of the Radon transform values at fixed projection angles is a discrete, separate projection at a fixed $\\mathbf{p}$ - here projection angles are with respect to the horizontal axis of the image. \n",
    "\n",
    "Great - now we have projection data! We can the try to reconstruct our original image using ``iradon`` - scikit-images' baseline image-reconstruction routine - that is based on the well-known Filtered Back Projection (FBP) algorithm. To quatify the accuracy of this image estimate, we also compute the mean square error (MSE) of this reconstruction relative to the original image. "
   ]
  },
  {
   "cell_type": "code",
   "execution_count": null,
   "metadata": {},
   "outputs": [],
   "source": [
    "# Image reconstruction with scikit-image's FBP\n",
    "image_fbp = iradon(projection, theta=thetas, circle=False)\n",
    "\n",
    "# Measure its MSE\n",
    "mse_fbp = np.linalg.norm(image_fbp[pad//2:-pad//2, pad//2:-pad//2] - image[pad//2:-pad//2, pad//2:-pad//2])\n",
    "\n",
    "fig, (ax1, ax2) = plt.subplots(1, 2, figsize=(12, 6))\n",
    "ax1.imshow(image_fbp[pad//2:-pad//2, pad//2:-pad//2], cmap='gray', vmin=0, vmax=1)\n",
    "ax1.set_title(\"Reconstruction\\nFiltered back projection\")\n",
    "ax1.axis('tight')\n",
    "ax2.imshow(image_fbp[pad//2:-pad//2, pad//2:-pad//2] - image[pad//2:-pad//2, pad//2:-pad//2], \n",
    "           cmap='gray', vmin=-0.2, vmax=0.2)\n",
    "ax2.set_title(\"Reconstruction error\\nFiltered back projection\")\n",
    "ax2.axis('tight');"
   ]
  },
  {
   "cell_type": "markdown",
   "metadata": {},
   "source": [
    "Even if we do not know exactly what ``radon``-``iradon`` do (we just used them out-of-the-box), we wonder whether they form numerical forward-adjoint pairs, i.e., whether they pass a dot-product test... If they do, then ``radon``-``iradon`` would fit right in a PyLops operator!\n",
    "\n",
    "One way to go about this is simply to use ``radon``-``iradon`` within a Pylops operator and see what happens... Let's try to see how can approach this using the ``FunctionOperator`` functionality in PyLops (https://pylops.readthedocs.io/en/latest/api/generated/pylops.FunctionOperator.html#pylops.FunctionOperator). We can then use our ``dottest`` to understand if this is an actual forward-adjoint pair."
   ]
  },
  {
   "cell_type": "code",
   "execution_count": null,
   "metadata": {},
   "outputs": [],
   "source": [
    "## NOTE: using Python lambda functions is a quick-and-easy way \n",
    "##       to assign a function object to a variable.\n",
    "##       We could have used def and function calls as alternative. \n",
    "\n",
    "# Forward function\n",
    "mvec = lambda x: radon(x.reshape(image.shape), theta=thetas, circle=False, preserve_range=False)\n",
    "\n",
    "# Adjoint function\n",
    "rmvec = lambda x: iradon(x.reshape(projection.shape), theta=thetas, circle=False, filter=None, \n",
    "                         interpolation='nearest')\n",
    "\n",
    "# Pass these to Pylop's FunctionOperator\n",
    "Fop = FunctionOperator(mvec, rmvec, projection.size, image.size)"
   ]
  },
  {
   "cell_type": "markdown",
   "metadata": {},
   "source": [
    "So, now we have effectively **wrapped** the ``radon``-``iradon`` *functions* into the forward and adjoint *methods* of the Pylops operator `Fop`.\n",
    "\n",
    "**Note**: we use the filter-free version of ``iradon`` - because the filtering is not part of an explicit adjoint. \n",
    "\n",
    "Now, let's see what this does..."
   ]
  },
  {
   "cell_type": "code",
   "execution_count": null,
   "metadata": {},
   "outputs": [],
   "source": [
    "# First, model projections used the forward method of Fop\n",
    "projection1 = Fop * image.ravel()  # note: Pylops operators act on 'vector' objects\n",
    "projection1 = projection.reshape(projection.shape)   # note: Pylops operators also output 'vector' objects\n",
    "\n",
    "# Then, apply the adjoint\n",
    "image_adj = Fop.H * projection1.ravel()\n",
    "image_adj = image_adj.reshape(image.shape)\n",
    "\n",
    "fig, (ax1, ax2) = plt.subplots(1, 2, figsize=(12, 6))\n",
    "ax1.imshow(projection, cmap='gray', extent=(0, 180, 0, projection.shape[0]))\n",
    "ax1.set_title(r\"Radon transform $\\mathbf{p}$\")\n",
    "ax1.set_xlabel(\"Projection angle (deg)\")\n",
    "ax1.axis('tight')\n",
    "ax2.imshow(image_adj, cmap='gray')\n",
    "ax2.set_title(\"Adjoint reconstruction with iradon\")\n",
    "ax2.axis('tight');"
   ]
  },
  {
   "cell_type": "markdown",
   "metadata": {},
   "source": [
    "Clearly, the ajoint-projection is different from the previous FBP result. \n",
    "\n",
    "It looks... OK? But, more importantly is it a **true adjoint**?"
   ]
  },
  {
   "cell_type": "code",
   "execution_count": null,
   "metadata": {},
   "outputs": [],
   "source": [
    "dottest(Fop, Fop.shape[0], Fop.shape[1])"
   ]
  },
  {
   "cell_type": "markdown",
   "metadata": {},
   "source": [
    "Unfortunately, as we suspected it, `iradon` does not behave as the true numerical adjoint of `radon`- even without any filter options.\n",
    "\n",
    "Nevertheless, this exercise is useful to see how we can quickly implement PyLops-compatible linear operators using ``FunctionOperator``, something that is very useful to test out ideas when prototyping in notebooks."
   ]
  },
  {
   "cell_type": "markdown",
   "metadata": {},
   "source": [
    "## Radon with PyLops"
   ]
  },
  {
   "cell_type": "markdown",
   "metadata": {},
   "source": [
    "Let's see if we can use any of PyLops operators to create an operator that mimics the ``radon`` of scikit-image. Provided this is possible, we would get automatically access to the adjoint of such an operator and can solve the inverse problem with any of our solvers (including those that allow adding sparsity to the solution).\n",
    "\n",
    "In pseudocode the projection operator (1 in figure above) is simply a rotation and summation:\n",
    "\n",
    "``\n",
    "for each theta\n",
    "    rotate image by theta\n",
    "    sum over horizontal axis\n",
    "``\n",
    "\n",
    "and its adjoint would be something like\n",
    "\n",
    "``\n",
    "for each theta\n",
    "    spread over horizontal axis\n",
    "    rotate image by -theta\n",
    "``\n",
    "\n",
    "Because rotating an image is equivalent to performing an interpolation from the original unrotated grid to a new rotated grid, we can use the PyLops ``Bilinear`` interpolation operator $\\mathbf{B}$ (https://pylops.readthedocs.io/en/latest/api/generated/pylops.signalprocessing.Bilinear.html). Then, summing over horizonal lines in the new rotated grid can be easily performed using the ``Sum`` operator $\\mathbf{S}$ (https://pylops.readthedocs.io/en/latest/api/generated/pylops.Sum.html). We will need to repeat it for a certain $N_\\theta$ angles: this is equivalent to vertically stacking the different $\\mathbf{B}$ operators at fixed $\\theta_i$. In mathematical terms our projection can be written as:\n",
    "\n",
    "$$\n",
    "\\mathbf{P}=\n",
    "\\begin{bmatrix}\n",
    "    \\mathbf{S} \\mathbf{B}_{\\theta_0}   \\\\\n",
    "    \\mathbf{S} \\mathbf{B}_{\\theta_1}    \\\\\n",
    "    \\vdots  \\\\\n",
    "    \\mathbf{S} \\mathbf{B}_{\\theta_i}    \\\\\n",
    "    \\vdots \\\\\n",
    "    \\mathbf{S} \\mathbf{B}_{\\theta_{N-1}} \n",
    "\\end{bmatrix}\n",
    "$$"
   ]
  },
  {
   "cell_type": "markdown",
   "metadata": {},
   "source": [
    "First of all,  let us see how we can perform one rotation using the `Bilinear` operator. As shown in figure, we can simply identify the coordinates of each grid point after a rotation and use bilinear interpolation to interpolate the original grid into this new grid. \n",
    "\n",
    "Moreover, to avoid some points to fall outside of the original grid we only perform the rotation for a portion of the grid inside the original one. This is the reason we originally extended our image dimensions  -  in this case by zero padding - so the image part of interest would always be sampled under a rotation operator. "
   ]
  },
  {
   "cell_type": "code",
   "execution_count": null,
   "metadata": {},
   "outputs": [],
   "source": [
    "## Single image rotation illustration\n",
    "\n",
    "nx, ny = image.shape\n",
    "inner = 100\n",
    "\n",
    "# define axis for rotation via bilinear interpolation\n",
    "x0, y0 = nx//2, ny//2\n",
    "x = np.arange(nx - inner) - x0 + inner//2\n",
    "y = np.arange(ny - inner) - y0 + inner//2\n",
    "X, Y = np.meshgrid(x, y, indexing='ij')\n",
    "X, Y = X.ravel(), Y.ravel()\n",
    "XY = np.vstack((X, Y))\n",
    "\n",
    "# rotate\n",
    "theta = 45\n",
    "theta = np.deg2rad(theta)\n",
    "R = np.array([[np.cos(theta), -np.sin(theta)],\n",
    "              [np.sin(theta), np.cos(theta)]])\n",
    "XYrot = R @ XY\n",
    "\n",
    "# recenter to positive axes\n",
    "XY[0] += x0\n",
    "XY[1] += y0\n",
    "\n",
    "XYrot[0] += x0\n",
    "XYrot[1] += y0\n",
    "\n",
    "plt.figure()\n",
    "plt.scatter(XY[0] , XY[1], c='r')\n",
    "plt.scatter(XYrot[0], XYrot[1], c='b', s=2)\n",
    "plt.axis('equal');"
   ]
  },
  {
   "cell_type": "markdown",
   "metadata": {},
   "source": [
    "Create the rotation operator"
   ]
  },
  {
   "cell_type": "code",
   "execution_count": null,
   "metadata": {},
   "outputs": [],
   "source": [
    "# Pylops operator\n",
    "Rop = pylops.signalprocessing.Bilinear(XYrot, dims=(nx, ny))"
   ]
  },
  {
   "cell_type": "markdown",
   "metadata": {},
   "source": [
    "Rotate the image"
   ]
  },
  {
   "cell_type": "code",
   "execution_count": null,
   "metadata": {},
   "outputs": [],
   "source": [
    "imagerot = Rop * image.ravel()\n",
    "imagerot = imagerot.reshape(nx-inner, ny-inner)\n",
    "\n",
    "fig, (ax1, ax2) = plt.subplots(1, 2, figsize=(8, 4.5))\n",
    "ax1.imshow(image, cmap='gray', vmin=0, vmax=1)\n",
    "ax1.set_title(\"Image\")\n",
    "ax2.imshow(imagerot, cmap='gray', vmin=0, vmax=1)\n",
    "ax2.set_title(\"Rotated image\");"
   ]
  },
  {
   "cell_type": "markdown",
   "metadata": {},
   "source": [
    "Let us now make an operator that applies $N_\\theta$ repeated rotations and sums for all angles"
   ]
  },
  {
   "cell_type": "code",
   "execution_count": null,
   "metadata": {},
   "outputs": [],
   "source": [
    "def RadonRotate(dims, inner, thetas):\n",
    "    # create original grid\n",
    "    nx, ny = dims\n",
    "    x0, y0 = nx//2, ny//2\n",
    "    x = np.arange(nx - inner) - x0 + inner//2\n",
    "    y = np.arange(ny - inner) - y0 + inner//2\n",
    "    X, Y = np.meshgrid(x, y, indexing='ij')\n",
    "    X, Y = X.ravel(), Y.ravel()\n",
    "    XY = np.vstack((X, Y))\n",
    "\n",
    "    thetas = np.deg2rad(thetas) # convert angles to radiants\n",
    "    Rops = [] # to append operators at each angle\n",
    "    for theta in thetas:\n",
    "        # defined rotated coordinates\n",
    "        R = np.array([[np.cos(theta), -np.sin(theta)],\n",
    "                      [np.sin(theta), np.cos(theta)]])\n",
    "        XYrot = R @ XY\n",
    "        XYrot[0] += x0\n",
    "        XYrot[1] += y0\n",
    "        \n",
    "        # create S*B operator for current angle\n",
    "        Rops.append(pylops.Sum(dims=(nx-inner, ny-inner), dir=0) * \n",
    "                    pylops.signalprocessing.Bilinear(XYrot, dims=(nx, ny)))\n",
    "    # stack all operators together\n",
    "    Radop = pylops.VStack(Rops)\n",
    "    return Radop"
   ]
  },
  {
   "cell_type": "markdown",
   "metadata": {},
   "source": [
    "We can now create our operator."
   ]
  },
  {
   "cell_type": "code",
   "execution_count": null,
   "metadata": {},
   "outputs": [],
   "source": [
    "inner = 100\n",
    "Radop = RadonRotate((nx, ny), inner, thetas)\n",
    "print(Radop)"
   ]
  },
  {
   "cell_type": "markdown",
   "metadata": {},
   "source": [
    "Let's now compare the projection computed before with scikit-image with our one"
   ]
  },
  {
   "cell_type": "code",
   "execution_count": null,
   "metadata": {},
   "outputs": [],
   "source": [
    "projection1 = Radop * image.ravel()\n",
    "projection1 = projection1.reshape(len(thetas), ny-inner)"
   ]
  },
  {
   "cell_type": "code",
   "execution_count": null,
   "metadata": {},
   "outputs": [],
   "source": [
    "fig, (ax1, ax2, ax3) = plt.subplots(1, 3, figsize=(17, 6))\n",
    "ax1.imshow(projection1.T, cmap='gray')\n",
    "ax1.set_title(\"PyLops forward radon\")\n",
    "ax1.axis(\"tight\")\n",
    "ax2.imshow(projection[projection.shape[0]//2-(nx-inner)//2:projection.shape[0]//2+(nx-inner)//2], cmap='gray')\n",
    "ax2.set_title(\"scikit-image radon\")\n",
    "ax2.axis(\"tight\")\n",
    "ax3.imshow(projection1.T-projection[projection.shape[0]//2-(nx-inner)//2:projection.shape[0]//2+(nx-inner)//2], \n",
    "           cmap='gray')\n",
    "ax3.set_title(\"difference\")\n",
    "ax3.axis(\"tight\");"
   ]
  },
  {
   "cell_type": "markdown",
   "metadata": {},
   "source": [
    "As you can see we have pretty much produced the same result in terms of the forward proejction operatarion, but now our operator also has a proper adjoint (i.e., satisifes the dot product test - you can verify this for yourself).\n",
    "\n",
    "Let us see if we can now feed it into one of PyLops solvers. We will consider two cases:\n",
    "\n",
    "- L2 regularized inversion, solving the problem that optimises: $J= ||\\mathbf{p} - \\mathbf{P} \\mathbf{i}||_2^2 + ||\\nabla \\mathbf{i}||_2^2$\n",
    "- TV regularized inversion, solving the problem that optimises: $J= ||\\mathbf{p} - \\mathbf{P} \\mathbf{i}||_2^2 + ||\\mathbf{D}_x  \\mathbf{i}||_1 + ||\\mathbf{D}_y \\mathbf{i}||_1$"
   ]
  },
  {
   "cell_type": "markdown",
   "metadata": {},
   "source": [
    "The first inversion can be easily carried out using PyLops ``RegularizedInversion`` (https://pylops.readthedocs.io/en/latest/api/generated/pylops.optimization.leastsquares.RegularizedInversion.html) which allows including a number of L2 regularization terms to the main functional"
   ]
  },
  {
   "cell_type": "code",
   "execution_count": null,
   "metadata": {},
   "outputs": [],
   "source": [
    "# Regularised LS\n",
    "# Define laplacian for regularisation (i.e., smoothing)\n",
    "D2op = pylops.Laplacian(dims=(nx, ny), edge=True, dtype=np.float)\n",
    "\n",
    "# Solve inverse problem with smoothing regularisation\n",
    "image_l2 = pylops.optimization.leastsquares.RegularizedInversion(Radop, [D2op], \n",
    "                                                                 projection1.ravel(), \n",
    "                                                                 epsRs=[1e0], show=True,\n",
    "                                                                 **dict(iter_lim=20))\n",
    "image_l2 = np.real(image_l2.reshape(nx, ny))\n",
    "mse_l2 = np.linalg.norm(image_l2[pad//2:-pad//2, pad//2:-pad//2] - image[pad//2:-pad//2, pad//2:-pad//2])\n",
    "\n",
    "fig, (ax1, ax2) = plt.subplots(1, 2, figsize=(12, 6))\n",
    "ax1.imshow(image_l2[pad//2:-pad//2, pad//2:-pad//2], cmap='gray', vmin=0, vmax=1)\n",
    "ax1.set_title(\"Reconstruction\\nL2 Regularized inversion\")\n",
    "ax1.axis('tight')\n",
    "ax2.imshow(image_l2[pad//2:-pad//2, pad//2:-pad//2] - image[pad//2:-pad//2, pad//2:-pad//2], \n",
    "           cmap='gray', vmin=-0.2, vmax=0.2)\n",
    "ax2.set_title(\"Reconstruction error\\nL2 Regularized inversion\")\n",
    "ax2.axis('tight');"
   ]
  },
  {
   "cell_type": "markdown",
   "metadata": {},
   "source": [
    "The second inversion will use the **Split-Bregman** solver - designed to solve L1 optimisation problems, subject to the Least-Squares fitting norm. This is an appropriate choice for the TV regularisation problem as shown above."
   ]
  },
  {
   "cell_type": "code",
   "execution_count": null,
   "metadata": {},
   "outputs": [],
   "source": [
    "# TV solution with Split-Bregman solver\n",
    "# Define first derivative operators\n",
    "Dop = [pylops.FirstDerivative(ny*nx, dims=(nx, ny), dir=0, edge=True, kind='backward', dtype=np.float),\n",
    "       pylops.FirstDerivative(ny*nx, dims=(nx, ny), dir=1, edge=True, kind='backward', dtype=np.float)]\n",
    "\n",
    "# Solve inverse problem\n",
    "mu = 0.2\n",
    "lamda = [1., 1.]\n",
    "niter = 5\n",
    "niterinner = 1\n",
    "\n",
    "# using Split-Bregman solver\n",
    "image_tv, niter = pylops.optimization.sparsity.SplitBregman(Radop, Dop, projection1.ravel(), niter, niterinner,\n",
    "                                                            mu=mu, epsRL1s=lamda, tol=1e-4, tau=1., show=True,\n",
    "                                                            **dict(iter_lim=10, damp=1e-2))\n",
    "image_tv = np.real(image_tv.reshape(nx, ny))\n",
    "mse_tv = np.linalg.norm(image_tv[pad//2:-pad//2, pad//2:-pad//2] - image[pad//2:-pad//2, pad//2:-pad//2])\n",
    "\n",
    "fig, (ax1, ax2) = plt.subplots(1, 2, figsize=(12, 6))\n",
    "ax1.imshow(image_tv[pad//2:-pad//2, pad//2:-pad//2], cmap='gray', vmin=0, vmax=1)\n",
    "ax1.set_title(\"Reconstruction\\nTV Regularized inversion\")\n",
    "ax1.axis('tight')\n",
    "ax2.imshow(image_tv[pad//2:-pad//2, pad//2:-pad//2] - image[pad//2:-pad//2, pad//2:-pad//2], \n",
    "           cmap='gray', vmin=-0.2, vmax=0.2)\n",
    "ax2.set_title(\"Reconstruction error\\nTV Regularized inversion\")\n",
    "ax2.axis('tight');"
   ]
  },
  {
   "cell_type": "markdown",
   "metadata": {},
   "source": [
    "We can now visualize the diffferent reconstructions all together"
   ]
  },
  {
   "cell_type": "code",
   "execution_count": null,
   "metadata": {},
   "outputs": [],
   "source": [
    "fig, axs = plt.subplots(1, 4, figsize=(18, 4))\n",
    "axs[0].imshow(image[pad//2:-pad//2, pad//2:-pad//2], vmin=0, vmax=1, cmap='gray')\n",
    "axs[0].axis('tight')\n",
    "axs[0].set_title('Image')\n",
    "axs[1].imshow(image_fbp[pad//2:-pad//2, pad//2:-pad//2], vmin=0, vmax=1, cmap='gray')\n",
    "axs[1].axis('tight')\n",
    "axs[1].set_title('Filtered Back Projection')\n",
    "axs[2].imshow(image_l2[pad//2:-pad//2, pad//2:-pad//2], vmin=0, vmax=1, cmap='gray')\n",
    "axs[2].axis('tight')\n",
    "axs[2].set_title('LS Inversion')\n",
    "axs[3].imshow(image_tv[pad//2:-pad//2, pad//2:-pad//2], vmin=0, vmax=1, cmap='gray')\n",
    "axs[3].axis('tight')\n",
    "axs[3].set_title('TV Inversion');\n",
    "\n",
    "# zoomed image\n",
    "fig, axs = plt.subplots(1, 4, sharex=True, sharey=True, figsize=(18, 4))\n",
    "axs[0].imshow(image[pad//2:-pad//2, pad//2:-pad//2], vmin=0, vmax=1, cmap='gray')\n",
    "axs[0].axis('tight')\n",
    "axs[0].set_title('Image')\n",
    "axs[1].imshow(image_fbp[pad//2:-pad//2, pad//2:-pad//2], vmin=0, vmax=1, cmap='gray')\n",
    "axs[1].axis('tight')\n",
    "axs[1].set_title('Filtered Back Projection')\n",
    "axs[2].imshow(image_l2[pad//2:-pad//2, pad//2:-pad//2], vmin=0, vmax=1, cmap='gray')\n",
    "axs[2].axis('tight')\n",
    "axs[2].set_title('LS Inversion')\n",
    "axs[3].imshow(image_tv[pad//2:-pad//2, pad//2:-pad//2], vmin=0, vmax=1, cmap='gray')\n",
    "axs[3].axis('tight')\n",
    "axs[3].set_title('TV Inversion');\n",
    "axs[3].set_xlim(100, 150)\n",
    "axs[3].set_ylim(220, 170);"
   ]
  },
  {
   "cell_type": "markdown",
   "metadata": {},
   "source": [
    "And finally we print the Mean Squared Error (MSE) for the different reconstuctions. This is commonly as a metric for image similarity in the imaging science community."
   ]
  },
  {
   "cell_type": "code",
   "execution_count": null,
   "metadata": {},
   "outputs": [],
   "source": [
    "print(f\"FBP MSE reconstruction error: {mse_fbp:.3f}\")\n",
    "print(f\"L2inv MSE reconstruction error: {mse_l2:.3f}\")\n",
    "print(f\"TV MSE reconstruction error: {mse_tv:.3f}\")"
   ]
  },
  {
   "cell_type": "markdown",
   "metadata": {},
   "source": [
    "We can see that FBP is a good algorithm for this problem. Whilst being very fast it produces a reasonably accurate solution.\n",
    "\n",
    "Our inverse based reconstructions on other hand require repeated applications of the forward and adjoint projection - thereby considerably increasing computational cost/time. However, by re-casting the reconstruction as an inverse problem we can include constraints on the solution, such as smoothness or sharpness.\n",
    "\n",
    "When a limited number of projections is acquired, we see how L2 inversion provides already a small improvement with respect to FBP. This imporvement is mostly associated with the additional regularization terms that favour a smoother solution - i.e., by imposing a smoothness constraint.\n",
    "\n",
    "For the TV regularized inversion we instead enforce sparsity in the first-order spatial derivatives of the solution - thus imposing a sharpness constraint. This leads to a shapr, piece-wise image which, in this case, drives the MSE down even further."
   ]
  },
  {
   "cell_type": "markdown",
   "metadata": {},
   "source": [
    "## Exercises"
   ]
  },
  {
   "cell_type": "markdown",
   "metadata": {},
   "source": [
    "**EX** Try adding different regularization terms to either of the inverse problems. Can you improve the MSE further?"
   ]
  },
  {
   "cell_type": "code",
   "execution_count": null,
   "metadata": {},
   "outputs": [],
   "source": [
    "def radon_morereg():\n",
    "    \"\"\"Add Wavelet Transform regularization to SplitBregman reconstruction\n",
    "    \"\"\"\n",
    "    # Wavelet transform operator\n",
    "    Wop = pylops.signalprocessing.DWT2D(image.shape, wavelet='haar', level=5)\n",
    "    DWop = Dop + [Wop, ]\n",
    "\n",
    "    # Solve inverse problem\n",
    "    mu = 0.2\n",
    "    lamda = [1., 1., .5]\n",
    "    niter = 5\n",
    "    niterinner = 1\n",
    "\n",
    "    image_tvw, niter = pylops.optimization.sparsity.SplitBregman(Radop, DWop,\n",
    "                                                                 projection1.ravel(),\n",
    "                                                                 niter,\n",
    "                                                                 niterinner,\n",
    "                                                                 mu=mu,\n",
    "                                                                 epsRL1s=lamda,\n",
    "                                                                 tol=1e-4,\n",
    "                                                                 tau=1.,\n",
    "                                                                 show=True,\n",
    "                                                                 **dict(\n",
    "                                                                     iter_lim=10,\n",
    "                                                                     damp=1e-2))\n",
    "    image_tvw = np.real(image_tvw.reshape(nx, ny))\n",
    "    mse_tvw = np.linalg.norm(\n",
    "        image_tvw[pad // 2:-pad // 2, pad // 2:-pad // 2] -\n",
    "        image[pad // 2:-pad // 2, pad // 2:-pad // 2])\n",
    "    print(f\"TV+W MSE reconstruction error: {mse_tvw:.3f}\")\n",
    "\n",
    "    fig, (ax1, ax2) = plt.subplots(1, 2, figsize=(12, 6))\n",
    "    ax1.imshow(image_tvw[pad // 2:-pad // 2, pad // 2:-pad // 2], cmap='gray',\n",
    "               vmin=0, vmax=1)\n",
    "    ax1.set_title(\"Reconstruction\\nTV+W Regularized inversion\")\n",
    "    ax1.axis('tight')\n",
    "    ax2.imshow(image_tvw[pad // 2:-pad // 2, pad // 2:-pad // 2] -\n",
    "               image[pad // 2:-pad // 2, pad // 2:-pad // 2],\n",
    "               cmap='gray', vmin=-0.2, vmax=0.2)\n",
    "    ax2.set_title(\"Reconstruction error\\nTV+W Regularized inversion\")\n",
    "    ax2.axis('tight')\n"
   ]
  },
  {
   "cell_type": "code",
   "execution_count": null,
   "metadata": {},
   "outputs": [],
   "source": [
    "radon_morereg()"
   ]
  },
  {
   "cell_type": "markdown",
   "metadata": {},
   "source": [
    "**EX** Let's add now some noise to the data. How sensitive are the different methods used in this notebook to noise? Why?"
   ]
  },
  {
   "cell_type": "code",
   "execution_count": null,
   "metadata": {},
   "outputs": [],
   "source": [
    "def radon_noise():\n",
    "    \"\"\"Create noise to add to projections\n",
    "    \"\"\"\n",
    "    sigman = 5e-1 # play with this...\n",
    "    n = np.random.normal(0., sigman, projection1.shape)\n",
    "    projection += n[projection.shape[0] // 2 - (nx - inner) // 2:\n",
    "    projection.shape[0] // 2 + (nx - inner) // 2]\n",
    "    projection1 += n\n",
    "\n",
    "    # copy-paste here the inversion code(s)...\n"
   ]
  },
  {
   "cell_type": "code",
   "execution_count": null,
   "metadata": {},
   "outputs": [],
   "source": [
    "radon_noise()"
   ]
  },
  {
   "cell_type": "markdown",
   "metadata": {},
   "source": [
    "**EX** Imagine now that you have been able to perform steps 2 and 3 in the Fourier Slice theorem and have access to the subsampled wavenumber response of the Shepp Logan Phantom. How would you set up your forward model and inverse problem?"
   ]
  },
  {
   "cell_type": "code",
   "execution_count": null,
   "metadata": {},
   "outputs": [],
   "source": [
    "def radon_kk():\n",
    "    \"\"\"Perform reconstruction in KK domain\n",
    "    \"\"\"\n",
    "    # 2D FFT operator\n",
    "    Fop = pylops.signalprocessing.FFT2D(dims=(nx, ny), dtype=np.complex)\n",
    "\n",
    "    # Restriction operator\n",
    "    thetas = np.arange(-43, 47, 5)\n",
    "    kx = np.arange(nx) - nx // 2\n",
    "    ikx = np.arange(nx)\n",
    "\n",
    "    mask = np.zeros((nx, ny))\n",
    "    for theta in thetas:\n",
    "        ky = kx * np.tan(np.deg2rad(theta))\n",
    "        iky = np.round(ky).astype(np.int) + nx // 2\n",
    "        sel = (iky >= 0) & (iky < nx)\n",
    "        mask[ikx[sel], iky[sel]] = 1\n",
    "    mask = np.logical_or(mask, np.fliplr(mask.T))\n",
    "    mask = np.fft.ifftshift(mask)\n",
    "\n",
    "    Rop = pylops.Restriction(nx * ny, np.where(mask.ravel() == 1)[0],\n",
    "                             dtype=np.complex)\n",
    "\n",
    "    # kk spectrum\n",
    "    kk = Fop * image.ravel()\n",
    "    kk = kk.reshape(image.shape)\n",
    "\n",
    "    # restricted kk spectrum\n",
    "    kkrestr = Rop.mask(kk.ravel())\n",
    "    kkrestr = kkrestr.reshape(ny, nx)\n",
    "    kkrestr.data[:] = np.fft.fftshift(kkrestr.data)\n",
    "    kkrestr.mask[:] = np.fft.fftshift(kkrestr.mask)\n",
    "\n",
    "    # data\n",
    "    KOp = Rop * Fop\n",
    "    y = KOp * image.ravel()\n",
    "\n",
    "    fig, (ax1, ax2, ax3, ax4) = plt.subplots(1, 4, figsize=(17, 4))\n",
    "    ax1.imshow(image, cmap='gray')\n",
    "    ax1.set_title(r\"Input $\\mathbf{i}$\")\n",
    "    ax1.axis('tight')\n",
    "    ax2.imshow(np.fft.fftshift(np.abs(kk)), vmin=0, vmax=1, cmap='rainbow')\n",
    "    ax2.set_title(\"KK Spectrum\")\n",
    "    ax2.axis('tight')\n",
    "    ax3.imshow(kkrestr.mask, vmin=0, vmax=1, cmap='gray')\n",
    "    ax3.set_title(r\"Sampling matrix\")\n",
    "    ax3.axis('tight')\n",
    "    ax4.imshow(np.abs(kkrestr), vmin=0, vmax=1, cmap='rainbow')\n",
    "    ax4.set_title(r\"Sampled KK Spectrum $\\mathbf{k}$\")\n",
    "    ax4.axis('tight')\n",
    "\n",
    "    # Solve L2 inverse problem\n",
    "    D2op = pylops.Laplacian(dims=(nx, ny), edge=True, dtype=np.complex)\n",
    "\n",
    "    image_l2 = \\\n",
    "        pylops.optimization.leastsquares.RegularizedInversion(KOp, [D2op],\n",
    "                                                              y, epsRs=[5e-1],\n",
    "                                                              show=True,\n",
    "                                                              **dict(iter_lim=20))\n",
    "    image_l2 = np.real(image_l2.reshape(nx, ny))\n",
    "\n",
    "    fig, (ax1, ax2) = plt.subplots(1, 2, figsize=(12, 6))\n",
    "    ax1.imshow(image_l2[pad // 2:-pad // 2, pad // 2:-pad // 2], cmap='gray',\n",
    "               vmin=0, vmax=1)\n",
    "    ax1.set_title(\"Reconstruction\\nL2 Regularized inversion\")\n",
    "    ax1.axis('tight')\n",
    "    ax2.imshow(image_l2[pad // 2:-pad // 2, pad // 2:-pad // 2] -\n",
    "               image[pad // 2:-pad // 2, pad // 2:-pad // 2],\n",
    "               cmap='gray', vmin=-0.2, vmax=0.2)\n",
    "    ax2.set_title(\"Reconstruction error\\nL2 Regularized inversion\")\n",
    "    ax2.axis('tight')\n",
    "\n",
    "    # Solve TV inverse problem\n",
    "    Dop = [pylops.FirstDerivative(ny * nx, dims=(nx, ny), dir=0, edge=True,\n",
    "                                  kind='backward', dtype=np.complex),\n",
    "           pylops.FirstDerivative(ny * nx, dims=(nx, ny), dir=1, edge=True,\n",
    "                                  kind='backward', dtype=np.complex)]\n",
    "\n",
    "    mu = 0.5\n",
    "    lamda = [.05, .05]\n",
    "    niter = 5\n",
    "    niterinner = 1\n",
    "\n",
    "    image_tv, niter = \\\n",
    "        pylops.optimization.sparsity.SplitBregman(KOp, Dop, y,\n",
    "                                                  niter,\n",
    "                                                  niterinner,\n",
    "                                                  mu=mu,\n",
    "                                                  epsRL1s=lamda,\n",
    "                                                  tol=1e-4,\n",
    "                                                  tau=1.,\n",
    "                                                  show=True,\n",
    "                                                  **dict(iter_lim=10,\n",
    "                                                         damp=1e-2))\n",
    "    image_tv = np.real(image_tv.reshape(nx, ny))\n",
    "\n",
    "    fig, (ax1, ax2) = plt.subplots(1, 2, figsize=(12, 6))\n",
    "    ax1.imshow(image_tv[pad // 2:-pad // 2, pad // 2:-pad // 2], cmap='gray',\n",
    "               vmin=0, vmax=1)\n",
    "    ax1.set_title(\"Reconstruction\\nTV Regularized inversion\")\n",
    "    ax1.axis('tight')\n",
    "    ax2.imshow(image_tv[pad // 2:-pad // 2, pad // 2:-pad // 2] -\n",
    "               image[pad // 2:-pad // 2, pad // 2:-pad // 2],\n",
    "               cmap='gray', vmin=-0.2, vmax=0.2)\n",
    "    ax2.set_title(\"Reconstruction error\\nTV Regularized inversion\")\n",
    "    ax2.axis('tight')\n"
   ]
  },
  {
   "cell_type": "code",
   "execution_count": null,
   "metadata": {},
   "outputs": [],
   "source": [
    "radon_kk()"
   ]
  },
  {
   "cell_type": "markdown",
   "metadata": {},
   "source": [
    "## Recap\n",
    "\n",
    "In this last tutorial we have learned to:\n",
    "\n",
    "- understand how to wrap third-party code into PyLops linear operators (and evaluate their validity)\n",
    "- create a fairly complex forward operator combinining several of PyLops operators\n",
    "- use both L2 and sparse solvers\n",
    "\n",
    "To conclude, we hope that this example provided you with the understanding of several of PyLops key features and its flexibility. If you find yourself having to solve large inverse problems, PyLops can help you to quickly create complex linear operators and access a wide range of solvers - *it allows you not to spend time on building the foundations but you can focus on the innovative aspects of your problem!.*\n",
    "\n",
    "On the other hand, PyLops is not specifically built with the problem of CT tomography in mind. Whilst we showed you how it is possible to quickly create an operator to achieve this, this is far from being highly optimized for that task. In this case, note that there are much better libraries out there, e.g. ASTRA-Toolbox (https://www.astra-toolbox.com). Note that a nice exercise would be indeed to substitute our forward and backward projections with ASTRA's fast ones and subsequently leverage our solvers and  done in this notebook."
   ]
  },
  {
   "cell_type": "code",
   "execution_count": null,
   "metadata": {},
   "outputs": [],
   "source": [
    "scooby.Report(core='pylops')"
   ]
  }
 ],
 "metadata": {
  "kernelspec": {
   "display_name": "Python 3",
   "language": "python",
   "name": "python3"
  },
  "language_info": {
   "codemirror_mode": {
    "name": "ipython",
    "version": 3
   },
   "file_extension": ".py",
   "mimetype": "text/x-python",
   "name": "python",
   "nbconvert_exporter": "python",
   "pygments_lexer": "ipython3",
   "version": "3.7.2"
  },
  "toc": {
   "base_numbering": 1,
   "nav_menu": {},
   "number_sections": true,
   "sideBar": true,
   "skip_h1_title": false,
   "title_cell": "Table of Contents",
   "title_sidebar": "Contents",
   "toc_cell": false,
   "toc_position": {
    "height": "calc(100% - 180px)",
    "left": "10px",
    "top": "150px",
    "width": "297.1690979003906px"
   },
   "toc_section_display": true,
   "toc_window_display": true
  }
 },
 "nbformat": 4,
 "nbformat_minor": 4
}
