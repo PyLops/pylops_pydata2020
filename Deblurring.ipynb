{
 "cells": [
  {
   "cell_type": "markdown",
   "metadata": {},
   "source": [
    "# Image deblurring\n",
    "\n",
    "**Authors: M. Ravasi, D. Vargas, I. Vasconcelos**"
   ]
  },
  {
   "cell_type": "markdown",
   "metadata": {},
   "source": [
    "Welcome to the second session of our **Solving large-scale inverse problems in Python with PyLops** tutorial!\n",
    "\n",
    "Throughout this tutorial, we aim at developing the following aspects in image processing:\n",
    "\n",
    "- We connect with the concepts learned in the previous session by defining a simple PyLops operator implementing a convolutional kernel for image processing  \n",
    "- Learn how to use build-in PyLops operators for image manipulation including, blurring, sharpening, and edge detection\n",
    "- Demonstrate the versatility of the linear operators when implemented in the solution of inverse problems, in particular, the image deblurring problem\n",
    "- Analyze the influence of noise in contrast with the performance of different solvers, least-squares, TV-Regularization, and FISTA"
   ]
  },
  {
   "cell_type": "markdown",
   "metadata": {},
   "source": [
    "## Useful links\n",
    "\n",
    "- Tutorial Github repository: https://github.com/mrava87/pylops_pydata2020\n",
    "        \n",
    "- PyLops Github repository: https://github.com/equinor/pylops\n",
    "\n",
    "- PyLops reference documentation: https://pylops.readthedocs.io/en/latest/"
   ]
  },
  {
   "cell_type": "markdown",
   "metadata": {},
   "source": [
    "# Deblurring Images\n",
    "\n",
    "Compact digital cameras were introduced in the early seventies thanks to the development of CCD sensors allowing the recording and storage of images in digital format. The goal of an image process is to capture an accurate representation of a particular scene. However, any image is influenced by the optical system itself and the overall effect is a blurred image reconstruction, therefore, specialized algorithms performing deblurring need to be implemented in order to achieve a sharper image. Image deblurring is a method that aims at recovering the original sharp-image by removing effect caused by limited aperture, lens aberrations, defocus, and unintended motions. This can be done by defining a mathematical model of the blurring process with the idea of removing from the image the blurring effects.\n",
    "\n",
    "Traditionally, the main assumption is that the blurring process is linear. When this is the case, a 2-dimensional convolutional model describes the imaging problem. The blurred Image (output) is the result of a point-spread function acting on a target sharp image (input). Such process is described by the following transformation, \n",
    "\n",
    "\\begin{equation}\n",
    "g(x, y) = \\int_{-\\infty}^{\\infty}\\int_{-\\infty}^{\\infty} h(x-x_0,y-y_0) f(x_0, y_0) dx_0 dy_0.\n",
    "\\end{equation}\n",
    "\n",
    "This operation can be discretized as follows\n",
    "\n",
    "\\begin{equation}\n",
    "g[i,n] = \\sum_{j=-\\infty}^{\\infty} \\sum_{m=-\\infty}^{\\infty} h[i-j,n-m] f[j,m] \n",
    "\\end{equation}\n",
    "\n",
    "<img src=\"figs/psf.png\" width=\"850\">\n",
    "\n",
    "and also implemented in the frequency domain using the convolution theorem\n",
    "\n",
    "\\begin{equation}\n",
    "G(k_x, k_y) = H(k_x, k_y) F(k_x, k_y).\n",
    "\\end{equation}\n",
    "\n",
    "Here, the spectrum of the point-spread function $H(k_x, k_y) = \\mathscr{F} \\{h(x,y)\\}$ is called transfer function, similarly, $F(k_x, k_y) = \\mathscr{F} \\{f(x,y)\\}$ is the spectrum of the sharp image. The previous definition is an specific case of the more general problem $\\mathbf{y} =  \\mathbf{A} \\mathbf{x}$ (*forward operation*), where $\\mathbf{A}:\\mathbb{F}^m \\to \\mathbb{F}^n$ is a linear operator that maps a vector of size $m$ in the *model space* to a vector of size $n$ in the *data space*, as explained in the previous session. The (*adjoint operation*) is $\\mathbf{x} = \\mathbf{A}^H \\mathbf{y}$. In this context, our deblurring operation is an inverse problem design to find a pseudoinverse, $\\mathbf{A}^{-1}$, that aims at removing the effect of the operator $\\mathbf{A}$ from the data $\\mathbf{y}$ to retrieve the model $\\mathbf{x}$, i.e., $\\hat{\\mathbf{x}} = \\mathbf{A}^{-1} \\mathbf{y}$. \n",
    "\n",
    "This Jupyter Notebook is intended to guide you through the main steps in the implementation of the blurring and deblurring process using the <code>pylops.signalprocessing.Convolve2D</code> operator, in this case, we assume to know the structure of the point-spread function for an specific problem.\n",
    "\n"
   ]
  },
  {
   "cell_type": "code",
   "execution_count": null,
   "metadata": {},
   "outputs": [],
   "source": [
    "# Run this when using Colab (will install the missing libraries)\n",
    "# !pip install pylops scooby"
   ]
  },
  {
   "cell_type": "code",
   "execution_count": null,
   "metadata": {},
   "outputs": [],
   "source": [
    "%matplotlib inline\n",
    "\n",
    "import numpy as np\n",
    "from skimage import data\n",
    "import matplotlib.pyplot as plt\n",
    "from matplotlib.colors import LogNorm\n",
    "from scipy.signal import convolve, correlate\n",
    "import scooby\n",
    "\n",
    "from pylops.optimization import leastsquares, sparsity\n",
    "from pylops.signalprocessing import Convolve2D\n",
    "from pylops import FirstDerivative, Laplacian\n",
    "from pylops import LinearOperator\n",
    "from pylops.utils import dottest"
   ]
  },
  {
   "cell_type": "markdown",
   "metadata": {},
   "source": [
    "# A simple  deconvolution problem\n",
    "\n",
    "The first problem we will solve with the aid of pylops is a simple one-dimensional convolution. We start by defining a pylops operator applying convolution with a given impulse response to a model vector. For simplicity, we select a *[ricker](https://en.wikipedia.org/wiki/Mexican_hat_wavelet)* wavelet and used it as a compact filter to be convolved with a 1D input signal. Assuming our input signal (model) is a time series constructed by superposition of three gaussian functions with different time shifts, the forward problem can be interpreted as a weighted sum of the function $f(\\tau)$ at the moment $t$ with weights given by $h$.\n",
    "\n",
    "<img src=\"figs/convolve_1D.png\" width=\"800\">\n",
    "\n",
    "The resulting signal (data), $g(t)$, is a 'blurred' shifted version of the input model mathematically computed by integration over time according to \n",
    "\n",
    "\\begin{equation}\n",
    "g(t) = \\int_{-\\infty}^{\\infty} h(t - \\tau) f(\\tau) d\\tau\n",
    "\\end{equation}\n",
    "\n",
    "Next, we solve the inverse problem (**deconvolution**) where we ask the question. What model vector would reproduce a given data set when convolved with a specific convolutional kernel?. Here we try to reconstruct an unknown model based on the given data (blue line in the figure) and impulse response (red line in the figure). The expected output of this operation should approximate our target model (black_line in the figure)\n",
    "\n",
    "\n",
    "**Pylops convolution operator:**\n",
    "A simple pylops operator is defined as a Child class that inherits from **[`pylops.LinearOperator`](https://pylops.readthedocs.io/en/latest/api/generated/pylops.LinearOperator.html#pylops.LinearOperator)**. We initilize the class by defining at least three atributes in the the class constructor; `shape`, `dtype`, and `explicit`. Next, we difine the forward mode operation through the method `_matvec`, and `_rmatvec` for the adjoint mode."
   ]
  },
  {
   "cell_type": "code",
   "execution_count": null,
   "metadata": {},
   "outputs": [],
   "source": [
    "# Defining a convolution Pylops operator\n",
    "class my_convolve(LinearOperator):\n",
    "    def __init__(self, A, dims, dtype=\"float64\"):\n",
    "        self.A = A\n",
    "        self.dims = dims\n",
    "        self.shape = (np.prod(self.dims), np.prod(self.dims))\n",
    "        self.dtype = np.dtype(dtype)\n",
    "        self.explicit = False\n",
    "\n",
    "    def _matvec(self, x):\n",
    "        x = np.reshape(x, self.dims)\n",
    "        y = convolve(x, self.A, mode='same')\n",
    "        return np.ndarray.flatten(y)\n",
    "\n",
    "    def _rmatvec(self, x):\n",
    "        x = np.reshape(x, self.dims)\n",
    "        y = correlate(x, self.A, mode='same')\n",
    "        return np.ndarray.flatten(y)"
   ]
  },
  {
   "cell_type": "code",
   "execution_count": null,
   "metadata": {},
   "outputs": [],
   "source": [
    "t_min, t_max, nt = -4.0, 4.0, 10000\n",
    "f_central = 15\n",
    "t_delay = 1\n",
    "t_delay_wav = np.array([0.0, 0.6, 1.2])[:, np.newaxis]\n",
    "\n",
    "# Time axis\n",
    "t = np.linspace(t_min, t_max, nt)\n",
    "sigma = 1 / (np.pi * f_central) ** 2\n",
    "\n",
    "# Model vector\n",
    "wav = np.exp(-((t - t_delay_wav) ** 2) / sigma)\n",
    "model_ = wav[0] - 1.5*wav[1] + wav[2]\n",
    "\n",
    "# Impulse response - Convolutional Operator\n",
    "impulse_response = (1 - (2 * (t - t_delay) ** 2) / sigma) * \\\n",
    "    np.exp(-((t - t_delay) ** 2) / sigma)\n",
    "\n",
    "# Data vector\n",
    "R_op = my_convolve(A=impulse_response, dims=(nt))\n",
    "data_ = R_op * model_\n",
    "\n",
    "\n",
    "\n",
    "# Model reconstruction - Inverse problem\n",
    "model_reconstructed = sparsity.FISTA(Op=R_op,\n",
    "                                    data=data_,\n",
    "                                    eps=1e-1,\n",
    "                                    niter=200)[0]\n",
    "\n",
    "# Plotting input vectors\n",
    "fig, ax = plt.subplots(1, 3, figsize=[10, 3], facecolor='w', edgecolor='k')\n",
    "ax[0].plot(t, impulse_response, 'r', lw=1.5)\n",
    "ax[0].set_xlabel('Time - (sec)')\n",
    "ax[0].set_ylabel('Amplitude')\n",
    "ax[0].set_xlim([0.8, 1.2])\n",
    "ax[0].set_title(\"Operator\")\n",
    "\n",
    "ax[1].plot(t, model_, 'k', lw=1.5)\n",
    "ax[1].set_xlabel('Time - (sec)')\n",
    "ax[1].set_xlim([-0.1, 2.5])\n",
    "ax[1].set_title(\"Model\")\n",
    "\n",
    "ax[2].plot(t, data_, 'b', lw=1.5)\n",
    "ax[2].set_xlabel('Time - (sec)')\n",
    "ax[2].set_xlim([-0.1, 2.5])\n",
    "ax[2].set_title(\"Data\")\n",
    "fig.tight_layout()\n",
    "\n",
    "\n",
    "# Plotting Model reconstruction vectors\n",
    "fig = plt.figure(figsize=[4, 3], facecolor='w', edgecolor='k')\n",
    "ax = fig.add_subplot(1, 1, 1)\n",
    "ax.plot(t, model_, 'k', lw=3, label='Target Model')\n",
    "ax.plot(t, model_reconstructed, '--g', lw=2, label='Reconstruction')\n",
    "ax.set_ylabel('Amplitude')\n",
    "ax.set_xlabel('Time - (sec)')\n",
    "ax.set_xlim([-0.1, 1.5])\n",
    "ax.set_title(\"Model Reconstruction\")\n",
    "ax.legend()"
   ]
  },
  {
   "cell_type": "code",
   "execution_count": null,
   "metadata": {},
   "outputs": [],
   "source": [
    "R_op"
   ]
  },
  {
   "cell_type": "markdown",
   "metadata": {},
   "source": [
    "# Image filtereing\n",
    "\n",
    "PyLops comes with multiple build-in operators ready to use. In this section, we are using `pylops.signalprocessing.Convolve2D` to perform convolutions. First, we need to define a compact filter to construct the actual operator and then apply it to a pre-loaded image. Before we do that, let's first see if under the given parameters this linear operator passes the dot test. Once we make sure that this is the case, we can compute the convolution using NumPy matrix-like syntax. \n",
    "\n",
    "<img src=\"figs/filtered_image.png\" width=\"800\">\n",
    "\n",
    "In the cell below, we select the most simple point spread function, the identity kernel. It should not blur the image and the error of the output compared to the input should be very low (to machine precession)\n",
    "\n",
    "Let's start by uploading an image. Here we use the **scikit-image** module <code>skimage.data</code> containing standard test images. The very first line selects the image of your preference to be used in the next cells, feel free to play around, and even upload your own pictures. "
   ]
  },
  {
   "cell_type": "code",
   "execution_count": null,
   "metadata": {},
   "outputs": [],
   "source": [
    "image = data.camera()         # Load image from scikit-image\n",
    "# image = data.binary_blobs()\n",
    "# image = data.checkerboard()\n",
    "ny, nx = image.shape\n",
    "\n",
    "# Identity kernel\n",
    "kernel = np.zeros([3, 3])\n",
    "kernel[1, 1] = 1\n",
    "\n",
    "# Define the PyLops blurring Operator\n",
    "C_op = Convolve2D(N=ny*nx,\n",
    "                  h=kernel,\n",
    "                  offset=(kernel.shape[0]//2, kernel.shape[1]//2),\n",
    "                  dims=(ny, nx))\n",
    "\n",
    "# Dot test\n",
    "dottest(C_op, ny*nx, ny*nx, verb=True)\n",
    "\n",
    "\n",
    "img_blur = C_op * image.flatten()\n",
    "img_blur = img_blur.reshape(image.shape)\n",
    "\n",
    "\n",
    "# PLOTTING\n",
    "fig, ax = plt.subplots(1, 3, figsize=(15, 5))\n",
    "ax[0].imshow(image, cmap='gray')\n",
    "ax[0].set_title('Input image')\n",
    "\n",
    "ax[1].imshow(img_blur, cmap='gray')\n",
    "ax[1].set_title('Response to identity')\n",
    "\n",
    "him = ax[2].imshow(img_blur-image, cmap='gray')\n",
    "ax[2].set_title('Error output-input')\n",
    "fig.colorbar(him, ax=ax[2])"
   ]
  },
  {
   "cell_type": "code",
   "execution_count": null,
   "metadata": {},
   "outputs": [],
   "source": [
    "print(\"image.shape {}\".format(image.shape))\n",
    "C_op"
   ]
  },
  {
   "cell_type": "markdown",
   "metadata": {},
   "source": [
    "**EX: Write your own kernel.** A very common practice in digital image processing consists of applying filters as a way to highlight specific image features. One of the most useful is known as unsharp mask and is used attenuate low frequencies features while enhancing small contrast changes. A very simple version of this sharpening filter is given by the matrix kernel,\n",
    "\n",
    "$$ \n",
    "\\mathbf{A} = \n",
    "\\begin{bmatrix}\n",
    "    0 & -1 & 0\\\\\n",
    "    -1 & 5 & -1\\\\\n",
    "    0 & -1 & 0\n",
    "\\end{bmatrix} \n",
    "$$\n",
    "\n",
    "Define a pylops operator for this mask and apply it to your preferred image. A code snippet for the plotting the input/output images is given below \n",
    "\n",
    "<img src=\"figs/unsharp_mask.png\" width=\"800\">"
   ]
  },
  {
   "cell_type": "code",
   "execution_count": null,
   "metadata": {},
   "outputs": [],
   "source": [
    "# %load -s Unsharp_Mask solutions/deblurring_sol.py"
   ]
  },
  {
   "cell_type": "code",
   "execution_count": null,
   "metadata": {},
   "outputs": [],
   "source": [
    "# Unsharp_Mask()"
   ]
  },
  {
   "cell_type": "markdown",
   "metadata": {},
   "source": [
    "#### Edge detection - Sobel operator\n",
    "\n",
    "Edge detection is a process that tries to identify areas on an image where strong changes in intensity take place. A simple way of performing this task is by implementing a Sobel operator. This kind of mask approximates the directional derivates of an image along with directions $x$, and $y$. Vertical, $\\mathbf{G_x}$, and Horizontal, $\\mathbf{G_y}$, gradients are give by the 3x3 kernels\n",
    "\n",
    "\\begin{equation}\n",
    "    \\mathbf{G_x}=\n",
    "    \\begin{bmatrix}\n",
    "        1 & 2 & 1\\\\\n",
    "        0 & 0 & 0\\\\\n",
    "        -1 & -2 & -1\n",
    "    \\end{bmatrix} \n",
    "   \\qquad\\text{,}\\qquad \n",
    "    \\mathbf{G_y} =\n",
    "    \\begin{bmatrix}\n",
    "        1 & 0 & -1\\\\\n",
    "        2 & 0 & -2\\\\\n",
    "        1 & 0 & -1\n",
    "    \\end{bmatrix}\n",
    "\\end{equation}\n",
    "\n",
    "note that each mask is designed to detect either horizontal or vertical changes. A Combination of these gradient approximations provides the total gradient magnitude, $\\mathbf{G} = \\sqrt{\\mathbf{G_x}^2 + \\mathbf{G_x}^2}$, at an specific pixel of the image.\n",
    "\n",
    "As we did in the previous exercise, we now implement edge detection by defining vertical and horizontal gradient kernels, apply them to an image, and assemble the gradient magnitude."
   ]
  },
  {
   "cell_type": "code",
   "execution_count": null,
   "metadata": {},
   "outputs": [],
   "source": [
    "# vertical edge detector\n",
    "kernel_v = np.array([[1, 0, -1],\n",
    "                     [2, 0, -2],\n",
    "                     [1, 0, -1]])\n",
    "\n",
    "# horizontal edge detector\n",
    "kernel_h = np.array([[1, 2, 1],\n",
    "                     [0, 0, 0],\n",
    "                     [-1, -2, -1]])\n",
    "\n",
    "# Define the PyLops blurring Operator\n",
    "Sobel_x_op = Convolve2D(N=ny*nx,\n",
    "                        h=kernel_h,\n",
    "                        offset=(kernel_h.shape[0]//2, kernel_h.shape[1]//2),\n",
    "                        dims=(ny, nx))\n",
    "Sobel_y_op = Convolve2D(N=ny*nx,\n",
    "                        h=kernel_v,\n",
    "                        offset=(kernel_v.shape[0]//2, kernel_v.shape[1]//2),\n",
    "                        dims=(ny, nx))\n",
    "\n",
    "Gx = Sobel_x_op * image.flatten()\n",
    "Gy = Sobel_y_op * image.flatten()\n",
    "Gx = Gx.reshape(image.shape)\n",
    "Gy = Gy.reshape(image.shape)\n",
    "\n",
    "# Gradient magnitude\n",
    "G = np.sqrt(Gy**2 + Gy**2)\n",
    "\n",
    "# PLOTTING\n",
    "fig, ax = plt.subplots(1, 3, figsize=(15, 5))\n",
    "\n",
    "ax[0].imshow(image, cmap='gray')\n",
    "ax[0].set_title('Image')\n",
    "\n",
    "ax[1].imshow(kernel_v, cmap='gray')\n",
    "ax[1].set_title('vertical Kernel')\n",
    "\n",
    "ax[2].imshow(G, cmap='gray')\n",
    "ax[2].set_title('Image edges')\n"
   ]
  },
  {
   "cell_type": "markdown",
   "metadata": {},
   "source": [
    "# Image Blurring\n",
    "\n",
    "The Gaussian filter is an operator used to suppress noise and reduce the contrast of an image. In this case, an image is rendered smooth under the action of a Gaussian mask by removing the high-frequency components.  Therefore, we can understand a Gaussian blur as a low-pass filter, attenuating the high-frequency components in an image. Similarly, the maximum value of the weighted sum in the convolution located around the center of the distribution decreases as a function of distance. Mathematically the two-dimensional Gaussian function is defined as\n",
    "\n",
    "\\begin{equation}\n",
    "G(x,y) = \\frac{1}{2 \\pi \\sigma ^{2}} e^{- \\frac{x^{2} + y^{2}}{2 \\sigma ^{2}}}\n",
    "\\label{2dgaussian}\n",
    "\\end{equation}\n",
    "\n",
    "where the standard deviation of the kernel is given for each axis and determines the effective extension of the filter.\n",
    "\n",
    "<img src=\"figs/blur_model.png\" width=\"800\">\n",
    "\n",
    "In the following cell, we will prepare a data vector represented by a Gaussian-blurred image as preparation for the next section, where we will use the smoothed image together with the given kernel and try to remove the blurring effects by solving a deconvolution problem "
   ]
  },
  {
   "cell_type": "code",
   "execution_count": null,
   "metadata": {},
   "outputs": [],
   "source": [
    "# Play around with this parameters\n",
    "mx, my = 25, 15                 # 25, 15\n",
    "sigma_x, sigma_y = 4.5, 2.5     # 4.5, 2.5\n",
    "\n",
    "x = np.linspace(-mx//2, mx//2, mx)\n",
    "y = np.linspace(-my//2, my//2, my)[..., None]\n",
    "kernel_gauss = 1/(2*np.pi*sigma_x*sigma_y) * \\\n",
    "    np.exp(-(x**2/(2*sigma_x**2) + y**2/(2*sigma_y**2)))\n",
    "\n",
    "# Define the PyLops blurring Operator\n",
    "Gauss_op = Convolve2D(N=ny*nx,\n",
    "                      h=kernel_gauss,\n",
    "                      offset=(kernel_gauss.shape[0]//2,\n",
    "                              kernel_gauss.shape[1]//2),\n",
    "                      dims=(ny, nx))\n",
    "\n",
    "img_gauss = Gauss_op * image.flatten()\n",
    "img_gauss_ = img_gauss.reshape(image.shape)\n",
    "\n",
    "# image spectrum\n",
    "image_shift = np.fft.fftshift(np.fft.fft2(image))\n",
    "image_spectrum = np.abs(image_shift)\n",
    "\n",
    "# PSF spectrum - Transfer function\n",
    "kernel_gauss_shift = np.fft.fftshift(np.fft.fft2(kernel_gauss))\n",
    "kernel_gauss_spectrum = np.abs(kernel_gauss_shift)\n",
    "\n",
    "# blurred-image spectrum\n",
    "img_gauss_shift = np.fft.fftshift(np.fft.fft2(img_gauss_))\n",
    "img_gauss_spectrum = np.abs(img_gauss_shift)\n",
    "\n",
    "# PLOTTING\n",
    "fig, ax = plt.subplots(2, 3, figsize=(9, 6))\n",
    "\n",
    "ax[0, 0].imshow(image, cmap='gray')\n",
    "ax[0, 0].set_title('Image')\n",
    "\n",
    "ax[0, 1].imshow(kernel_gauss, cmap='gray')\n",
    "ax[0, 1].set_title('Gaussian Kernel')\n",
    "\n",
    "him2 = ax[0, 2].imshow(img_gauss_, cmap='gray')\n",
    "ax[0, 2].set_title('Blurred Image')\n",
    "\n",
    "ax[1, 0].imshow(image_spectrum, cmap='gray', norm=LogNorm(vmin=10))\n",
    "ax[1, 0].set_title('Image Spectrum')\n",
    "\n",
    "ax[1, 1].imshow(kernel_gauss_spectrum, cmap='gray')\n",
    "ax[1, 1].set_title('Gaussian Kernel Spectrum')\n",
    "\n",
    "him2 = ax[1, 2].imshow(img_gauss_spectrum, cmap='gray', norm=LogNorm(vmin=10))\n",
    "ax[1, 2].set_title('Blurred Image Spectrum')\n",
    "fig.tight_layout()"
   ]
  },
  {
   "cell_type": "markdown",
   "metadata": {},
   "source": [
    "# Image Deblurring \n",
    "\n",
    "Finally, we consider a standard deblurring case. Here we assume a picture was taken in real life; therefore, a whole set of potential artifacts are present in it. Our mission is to try and reconstruct a shaper image representation of the scene by removing the blurring effects. Luckily, we assume to have some information on the optical system and decided to implement an inverse problem. Depending on the application, different solvers are available, below we will compare the performance of some well-known algorithms to deblur the image and compare it with its original version.\n",
    "\n",
    "- least squares inversion\n",
    "- least squares - regularized inversion \n",
    "- TV inversion\n",
    "- FISTA - Fast Iterative Shrinkage-Thresholding Algorithm\n",
    "\n",
    "A set of ready to use solvers are implemented in the PyLops module `pylops.optimization.leastsquares` and `pylops.optimization.sparsity`."
   ]
  },
  {
   "cell_type": "markdown",
   "metadata": {},
   "source": [
    "**least squares inversion**\n",
    "\\begin{equation}\n",
    "J= ||\\mathbf{d} - \\mathbf{A} \\mathbf{m}||_2^2\n",
    "\\end{equation}"
   ]
  },
  {
   "cell_type": "code",
   "execution_count": null,
   "metadata": {},
   "outputs": [],
   "source": [
    "# least squares inversion\n",
    "deblur_l2 = leastsquares.NormalEquationsInversion(Op=Gauss_op,\n",
    "                                                  Regs=None,\n",
    "                                                  data=img_gauss,\n",
    "                                                  maxiter=40)\n",
    "# Reshape image\n",
    "deblur_l2 = deblur_l2.reshape(image.shape)"
   ]
  },
  {
   "cell_type": "markdown",
   "metadata": {},
   "source": [
    "**least squares - regularized inversion**\n",
    "\\begin{equation}\n",
    "J= ||\\mathbf{d} - \\mathbf{A} \\mathbf{m}||_2^2 + ||\\nabla \\mathbf{m}||_2^2\n",
    "\\end{equation}"
   ]
  },
  {
   "cell_type": "code",
   "execution_count": null,
   "metadata": {},
   "outputs": [],
   "source": [
    "# L2 regularization term - Second derivative\n",
    "D2op = Laplacian(dims=(ny, nx), dtype=np.float)\n",
    "\n",
    "# least squares - regularized inversion\n",
    "deblur_l2_reg = leastsquares.RegularizedInversion(Op=Gauss_op,\n",
    "                                                  Regs=[D2op],\n",
    "                                                  data=img_gauss,\n",
    "                                                  epsRs=[1e0],\n",
    "                                                  show=True,\n",
    "                                                  **dict(iter_lim=20))\n",
    "# Reshape image\n",
    "deblur_l2_reg = np.real(deblur_l2_reg.reshape(image.shape))"
   ]
  },
  {
   "cell_type": "markdown",
   "metadata": {},
   "source": [
    "**TV inversion**\n",
    "\\begin{equation}\n",
    "J= ||\\mathbf{d} - \\mathbf{A} \\mathbf{m}||_2^2 + ||\\mathbf{D}_x  \\mathbf{m}||_1 + ||\\mathbf{D}_y \\mathbf{m}||_1\n",
    "\\end{equation}"
   ]
  },
  {
   "cell_type": "code",
   "execution_count": null,
   "metadata": {},
   "outputs": [],
   "source": [
    "# L1 regularization term  - First derivative\n",
    "Dop = [FirstDerivative(ny * nx, dims=(ny, nx), dir=0),\n",
    "       FirstDerivative(ny * nx, dims=(ny, nx), dir=1)]\n",
    "\n",
    "# TV inversion\n",
    "deblur_tv = sparsity.SplitBregman(Op=Gauss_op,\n",
    "                                  RegsL1=Dop,\n",
    "                                  data=img_gauss,\n",
    "                                  niter_outer=10,\n",
    "                                  niter_inner=5,\n",
    "                                  mu=1.8,\n",
    "                                  epsRL1s=[1e-1, 1e-1],\n",
    "                                  tol=1e-4,\n",
    "                                  tau=1.,\n",
    "                                  ** dict(iter_lim=5, damp=1e-4, show=True))[0]\n",
    "# Reshape image\n",
    "deblur_tv = deblur_tv.reshape(image.shape)"
   ]
  },
  {
   "cell_type": "markdown",
   "metadata": {},
   "source": [
    "**FISTA inversion**\n",
    "\\begin{equation}\n",
    "J= ||\\mathbf{d} - \\mathbf{A} \\mathbf{m}||_2^2 + \\epsilon||\\mathbf{m}||_p\n",
    "\\end{equation}"
   ]
  },
  {
   "cell_type": "code",
   "execution_count": null,
   "metadata": {},
   "outputs": [],
   "source": [
    "# FISTA inversion\n",
    "deblur_fista = sparsity.FISTA(Op=Gauss_op,\n",
    "                              data=img_gauss,\n",
    "                              eps=1e-1,\n",
    "                              niter=100,\n",
    "                              show=True)[0]\n",
    "# Reshape image\n",
    "deblur_fista = deblur_fista.reshape(image.shape)"
   ]
  },
  {
   "cell_type": "code",
   "execution_count": null,
   "metadata": {},
   "outputs": [],
   "source": [
    "# PLOTTING\n",
    "fig, ax = plt.subplots(2, 3, sharex=True, sharey=True, figsize=(12, 8))\n",
    "\n",
    "ax[0, 0].imshow(image, aspect='auto', cmap='gray')\n",
    "ax[0, 0].set_title('Original Image')\n",
    "\n",
    "ax[0, 1].imshow(deblur_l2, aspect='auto', cmap='gray')\n",
    "ax[0, 1].set_title('LS-Inversion')\n",
    "\n",
    "ax[0, 2].imshow(deblur_l2_reg, aspect='auto', cmap='gray')\n",
    "ax[0, 2].set_title('Regularized LS-Inversion')\n",
    "\n",
    "ax[1, 0].imshow(img_gauss_, aspect='auto', cmap='gray')\n",
    "ax[1, 0].set_title('Blurred Image')\n",
    "\n",
    "ax[1, 1].imshow(deblur_tv, aspect='auto', cmap='gray')\n",
    "ax[1, 1].set_title('TV-Inversion')\n",
    "\n",
    "ax[1, 2].imshow(deblur_fista, aspect='auto', cmap='gray')\n",
    "ax[1, 2].set_title('FISTA Inversion')\n",
    "fig.tight_layout()"
   ]
  },
  {
   "cell_type": "markdown",
   "metadata": {},
   "source": [
    "# Image Deblurring - The effect of noise Noise\n",
    "\n",
    "We have so far discussed the blurring of images. In practical image processing, observed images are commonly polluted with noise. The nature of the noise is influenced by multiple sources, and mathematically can be linear, nonlinear, multiplicative, and additive. In this exercise, we consider common additive noise, which can be included in our linear model by a term perturbing the blurred image \n",
    "\n",
    "$$\n",
    "\\mathbf{B} = \\mathbf{B_{blur}} + \\mathbf{N}\n",
    "$$\n",
    "\n",
    "**EX: Adding noise.** Add Gaussian white noise to the blurred image with a given standard deviation and perform image deblurring to evaluate the performace of different solvers"
   ]
  },
  {
   "cell_type": "code",
   "execution_count": null,
   "metadata": {},
   "outputs": [],
   "source": [
    "# %load -s Noisy_Inversion solutions/deblurring_sol.py"
   ]
  },
  {
   "cell_type": "code",
   "execution_count": null,
   "metadata": {
    "scrolled": false
   },
   "outputs": [],
   "source": [
    "# Noisy_Inversion()"
   ]
  },
  {
   "cell_type": "markdown",
   "metadata": {},
   "source": [
    "# Recap\n",
    "\n",
    "In this tutorial we have learned to:\n",
    "\n",
    "- Define a simple PyLops operator implementing a convolutional kernel for image processing  \n",
    "- Use build-in PyLops operators for image manipulation including\n",
    "- Solve the image deblurring problem using different inverse problems schemes\n",
    "- Denoise a blurred image with the help of least-squares, TV-Regularization, and FISTA\n"
   ]
  },
  {
   "cell_type": "code",
   "execution_count": null,
   "metadata": {},
   "outputs": [],
   "source": [
    "scooby.Report(core='pylops')"
   ]
  }
 ],
 "metadata": {
  "kernelspec": {
   "display_name": "Python 3",
   "language": "python",
   "name": "python3"
  },
  "language_info": {
   "codemirror_mode": {
    "name": "ipython",
    "version": 3
   },
   "file_extension": ".py",
   "mimetype": "text/x-python",
   "name": "python",
   "nbconvert_exporter": "python",
   "pygments_lexer": "ipython3",
   "version": "3.7.2"
  },
  "toc": {
   "base_numbering": 1,
   "nav_menu": {},
   "number_sections": true,
   "sideBar": true,
   "skip_h1_title": false,
   "title_cell": "Table of Contents",
   "title_sidebar": "Contents",
   "toc_cell": false,
   "toc_position": {},
   "toc_section_display": true,
   "toc_window_display": false
  }
 },
 "nbformat": 4,
 "nbformat_minor": 4
}
