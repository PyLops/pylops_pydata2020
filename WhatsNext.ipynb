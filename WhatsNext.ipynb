{
 "cells": [
  {
   "cell_type": "markdown",
   "metadata": {},
   "source": [
    "# What's next?\n",
    "\n",
    "**Authors: M. Ravasi, D. Vargas, I. Vasconcelos**"
   ]
  },
  {
   "cell_type": "markdown",
   "metadata": {},
   "source": [
    "It is time to wrap up. We hope you enjoyed this tutorial and learned how to use PyLops.\n",
    "\n",
    "But, where to go next?"
   ]
  },
  {
   "cell_type": "markdown",
   "metadata": {},
   "source": [
    "### Implementation details\n",
    "\n",
    "To learn more about the implementation details:\n",
    "\n",
    "- Guide to add new operators (we welcome contributions!): https://pylops.readthedocs.io/en/latest/adding.html\n",
    "\n",
    "- Our reference [paper](https://www.sciencedirect.com/science/article/pii/S2352711019301086): *Ravasi, M., and Vasconcelos I., PyLops–A Linear-Operator Python Library for large scale optimization, Software X, (2019)* "
   ]
  },
  {
   "cell_type": "markdown",
   "metadata": {},
   "source": [
    "### More examples\n",
    "\n",
    "You can find more examples to get started at:\n",
    "    \n",
    "- https://pylops.readthedocs.io/en/latest/tutorials/index.html\n",
    "\n",
    "- https://github.com/mrava87/pylops_notebooks"
   ]
  },
  {
   "cell_type": "markdown",
   "metadata": {},
   "source": [
    "### PyLops in research\n",
    "\n",
    "If you are going to use PyLops in your research, please let us know! We like to keep track of all the publications that use it [link](https://pylops.readthedocs.io/en/latest/papers.html).\n",
    "\n",
    "So far, most of our publications are currently gravitating around geophysical applications. Another area where PyLops is currently being used is Astronomy to image strong gravitational lenses (see https://github.com/Jammy2211/PyAutoLens)."
   ]
  },
  {
   "cell_type": "markdown",
   "metadata": {},
   "source": [
    "### Way forward\n",
    "\n",
    "These are some directions of active development, if interested to contribute reach out to us!\n",
    "\n",
    "- **PyLops-distributed** (https://pylops-distributed.readthedocs.io): Distributed operators via [Dask](https://dask.org). So far it contains an incomplete port of PyLops operators and solvers to Dask in order to leverage distributed computing when applying the forward/adjoint of an operator.\n",
    "\n",
    "- **PyLops-gpu** (https://pylops-gpu.readthedocs.io): GPU-powered operators via [PyTorch](https://http://pytorch.org). Similar to PyLops-distributed, it only contains a small subset of PyLops operators that have been re-implemented using PyTorch. It allow:\n",
    "    - running forward/adjoint steps (or even the entire inverse problem) on a GPU. \n",
    "    - easy wrapping of any of PyLops operators into a ``torch.autograd.Function`` via ``TorchOperator`` (https://pylops-gpu.readthedocs.io/en/latest/api/generated/pylops_gpu.TorchOperator.html) - use PyLops operators within an autograd graph.\n",
    "    \n",
    "- **Cupy** Integration in PyLops: given the level of maturity of Cupy, we have started to consider a direct integration in PyLops. This will allow operators to transparently use numpy or cupy depending on the input vectors"
   ]
  },
  {
   "cell_type": "markdown",
   "metadata": {},
   "source": [
    "### Getting in touch\n",
    "\n",
    "Feel free to reach out for any questions or suggestions:\n",
    "    \n",
    "- **Github issues** (specific to the codebase)\n",
    "\n",
    "- Our **Slack** workshape (https://pylops.slack.com)\n",
    "\n",
    "- **Software Underground** Slack (https://swung.slack.com)\n",
    "\n",
    "- Or just reach out directly via email or Linkedin!"
   ]
  }
 ],
 "metadata": {
  "kernelspec": {
   "display_name": "Python 3",
   "language": "python",
   "name": "python3"
  },
  "language_info": {
   "codemirror_mode": {
    "name": "ipython",
    "version": 3
   },
   "file_extension": ".py",
   "mimetype": "text/x-python",
   "name": "python",
   "nbconvert_exporter": "python",
   "pygments_lexer": "ipython3",
   "version": "3.7.2"
  },
  "toc": {
   "base_numbering": 1,
   "nav_menu": {},
   "number_sections": true,
   "sideBar": true,
   "skip_h1_title": false,
   "title_cell": "Table of Contents",
   "title_sidebar": "Contents",
   "toc_cell": false,
   "toc_position": {
    "height": "calc(100% - 180px)",
    "left": "10px",
    "top": "150px",
    "width": "197.796875px"
   },
   "toc_section_display": true,
   "toc_window_display": true
  }
 },
 "nbformat": 4,
 "nbformat_minor": 1
}
